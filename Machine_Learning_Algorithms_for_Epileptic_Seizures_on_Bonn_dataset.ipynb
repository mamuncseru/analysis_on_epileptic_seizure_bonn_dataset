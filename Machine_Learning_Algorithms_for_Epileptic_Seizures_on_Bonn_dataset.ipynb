{
  "nbformat": 4,
  "nbformat_minor": 0,
  "metadata": {
    "colab": {
      "provenance": [],
      "authorship_tag": "ABX9TyPDq4QUmyHTzw5IYEQFLRZk",
      "include_colab_link": true
    },
    "kernelspec": {
      "name": "python3",
      "display_name": "Python 3"
    },
    "language_info": {
      "name": "python"
    }
  },
  "cells": [
    {
      "cell_type": "markdown",
      "metadata": {
        "id": "view-in-github",
        "colab_type": "text"
      },
      "source": [
        "<a href=\"https://colab.research.google.com/github/mamuncseru/analysis_on_epileptic_seizure_bonn_dataset/blob/main/Machine_Learning_Algorithms_for_Epileptic_Seizures_on_Bonn_dataset.ipynb\" target=\"_parent\"><img src=\"https://colab.research.google.com/assets/colab-badge.svg\" alt=\"Open In Colab\"/></a>"
      ]
    },
    {
      "cell_type": "markdown",
      "source": [
        "## Intro of this Notebook\n",
        "\n",
        "The goal of this research is to use various machine learning algorithms to diagnose epileptic seizures. The frequency components of the EEG are extracted for this purpose using the discrete wavelet transform (DWT) and parametric approaches based on the autoregressive (AR) model. Both of these methods are used as input to machine learning classification algorithms such as Artificial Neural Networks (ANN), Naive Bayesian, k-Nearest Neighbor (k-NN), Support Vector Machines (SVM), Logistic Regression, and Principal Component Analysis. According to test processing of both DWT and AR as feature extraction for recognition of epileptic episodes in EEG, the results reveal that k-NN, ANN, and SVM were the most efficient methods."
      ],
      "metadata": {
        "id": "QOKBtt23qOVs"
      }
    },
    {
      "cell_type": "markdown",
      "source": [
        "## Introduction of Epilepsy\n",
        "\n",
        "Epilepsy is a serious brain condition that is a worldwide neurological disorder. It is a clinical outcome of aberrant neurological electrical discharge of the brain. The most common positive signs and symptoms of a brain abnormality are epileptic seizures, and epilepsy is one of the most prevalent primary brain illnesses. The most common causes of epilepsy are vascular reasons, traumatic causes, infections and brain tumors, dietary deficiencies, pyridoxine deficiency, and calcium metabolism abnormalities. For improved understanding of the mechanisms generating epileptic diseases, study is required in order to diagnose epilepsy. The electroencephalogram [EEG] is used to diagnose and treat neurophysiologic diseases. The EEG is critical for accurately classifying different types of epilepsy.\n"
      ],
      "metadata": {
        "id": "gKwmphsKsOVH"
      }
    },
    {
      "cell_type": "code",
      "execution_count": null,
      "metadata": {
        "id": "0NOCOnzqpxaR"
      },
      "outputs": [],
      "source": []
    }
  ]
}