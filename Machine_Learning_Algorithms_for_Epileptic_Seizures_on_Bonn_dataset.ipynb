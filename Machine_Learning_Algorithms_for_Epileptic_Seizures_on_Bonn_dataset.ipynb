{
  "nbformat": 4,
  "nbformat_minor": 0,
  "metadata": {
    "colab": {
      "provenance": [],
      "authorship_tag": "ABX9TyMvUZMrrfGCJ/Thb/dVoYqM",
      "include_colab_link": true
    },
    "kernelspec": {
      "name": "python3",
      "display_name": "Python 3"
    },
    "language_info": {
      "name": "python"
    }
  },
  "cells": [
    {
      "cell_type": "markdown",
      "metadata": {
        "id": "view-in-github",
        "colab_type": "text"
      },
      "source": [
        "<a href=\"https://colab.research.google.com/github/mamuncseru/analysis_on_epileptic_seizure_bonn_dataset/blob/main/Machine_Learning_Algorithms_for_Epileptic_Seizures_on_Bonn_dataset.ipynb\" target=\"_parent\"><img src=\"https://colab.research.google.com/assets/colab-badge.svg\" alt=\"Open In Colab\"/></a>"
      ]
    },
    {
      "cell_type": "markdown",
      "source": [
        "## Intro of this Notebook\n",
        "\n",
        "The goal of this research is to use various machine learning algorithms to diagnose epileptic seizures. The frequency components of the EEG are extracted for this purpose using the discrete wavelet transform (DWT) and parametric approaches based on the autoregressive (AR) model. Both of these methods are used as input to machine learning classification algorithms such as Artificial Neural Networks (ANN), Naive Bayesian, k-Nearest Neighbor (k-NN), Support Vector Machines (SVM), Logistic Regression, and Principal Component Analysis. According to test processing of both DWT and AR as feature extraction for recognition of epileptic episodes in EEG, the results reveal that k-NN, ANN, and SVM were the most efficient methods."
      ],
      "metadata": {
        "id": "QOKBtt23qOVs"
      }
    },
    {
      "cell_type": "markdown",
      "source": [
        "## Introduction of Epilepsy\n",
        "\n",
        "Epilepsy is a serious brain condition that is a worldwide neurological disorder. It is a clinical outcome of aberrant neurological electrical discharge of the brain. The most common positive signs and symptoms of a brain abnormality are epileptic seizures, and epilepsy is one of the most prevalent primary brain illnesses. The most common causes of epilepsy are vascular reasons, traumatic causes, infections and brain tumors, dietary deficiencies, pyridoxine deficiency, and calcium metabolism abnormalities. For improved understanding of the mechanisms generating epileptic diseases, study is required in order to diagnose epilepsy. The electroencephalogram [EEG] is used to diagnose and treat neurophysiologic diseases. The EEG is critical for accurately classifying different types of epilepsy.\n"
      ],
      "metadata": {
        "id": "gKwmphsKsOVH"
      }
    },
    {
      "cell_type": "markdown",
      "source": [
        "## Background Study (Theoritical)\n",
        "\n",
        "The goal of this research is to use engineering to help in the diagnosis of epilepsy. Thus, modified discrete wavelet and auto regressive models are used to diagnose epileptic seizures using EEG signals. Following these changes, the extracted data is used as input for techniques such as back-propagation, Naive Bayesian, k-Nearest Neighbor (k-NN), Support Vector Machine (SVM), ANN, Logistic Regression, and Principal Component Analysis.\n"
      ],
      "metadata": {
        "id": "OWlQ4hcRuyxP"
      }
    },
    {
      "cell_type": "markdown",
      "source": [
        "## EEG Data Recording\n",
        "\n",
        "EEG signals are separated into α, β, γ and θ spectral components and provide a wide range of frequency components. EEG spectrum contains some characteristic waveforms that fall primarily within four frequency bands as follows: δ(0.5-4Hz), θ(4-8Hz), α(8-13Hz) and β(13-30Hz). \n",
        "\n",
        "EEG data set has acquired different age groups in this study. They are known epileptic with uncontrolled seizures and are admitted to the neurology department of the Medical Faculty Hospital of Dicle University. Fo this system LabView pro- gramming language has been used and the EEG data used in 400 people who received 200 of them are epilepsy and with 200 of them are normal. Data set represents of signals belong to several healthy and epileptic patients. The EEG signals that are contained by PCI-MIO 16E DAQ card system that provides real time processing and is a data bus of computer, signal processor and personal computer. \n",
        "\n",
        "EEG signals are to ensure the accuracy of diagnosing disease that usually is taken 8-10 hours in the form of records. EEG signals are used in section and 23.6 seconds, 173Hz sampling frequency is illustrated with international 10-20 eletrode placement system according to the dat acollected, 12-bit analog-digital conversion after the samples are recorded subsequently. \n",
        "\n",
        "Data can be passed through the filter 0.53-40Hz band-pass, the EEG in the presence of clinical interest for focusing range is provided. The EEG data used in our study were downloaded from 24h EEG recorded from both epileptic patients and normal subjects.\n",
        "\n",
        "The following bipolar EEG channels were selected for analysis: F7-C3, F8-C4, T5-O1 and T6-O2. In order to assess the performance of the classifier, we selected 500 EEG segments containing spike and wave complex, artifacts and background normal EEG.\n"
      ],
      "metadata": {
        "id": "pQl1lkr-wWBX"
      }
    },
    {
      "cell_type": "code",
      "execution_count": null,
      "metadata": {
        "id": "0NOCOnzqpxaR"
      },
      "outputs": [],
      "source": []
    }
  ]
}