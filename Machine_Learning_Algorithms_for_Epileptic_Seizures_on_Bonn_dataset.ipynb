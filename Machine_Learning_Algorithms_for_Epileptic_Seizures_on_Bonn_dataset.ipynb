{
  "nbformat": 4,
  "nbformat_minor": 0,
  "metadata": {
    "colab": {
      "provenance": [],
      "authorship_tag": "ABX9TyN2o+gb2oZ6+k/voVjVwKrO",
      "include_colab_link": true
    },
    "kernelspec": {
      "name": "python3",
      "display_name": "Python 3"
    },
    "language_info": {
      "name": "python"
    }
  },
  "cells": [
    {
      "cell_type": "markdown",
      "metadata": {
        "id": "view-in-github",
        "colab_type": "text"
      },
      "source": [
        "<a href=\"https://colab.research.google.com/github/mamuncseru/analysis_on_epileptic_seizure_bonn_dataset/blob/main/Machine_Learning_Algorithms_for_Epileptic_Seizures_on_Bonn_dataset.ipynb\" target=\"_parent\"><img src=\"https://colab.research.google.com/assets/colab-badge.svg\" alt=\"Open In Colab\"/></a>"
      ]
    },
    {
      "cell_type": "markdown",
      "source": [
        "## Intro of this Notebook\n",
        "\n",
        "The goal of this research is to use various machine learning algorithms to diagnose epileptic seizures. The frequency components of the EEG are extracted for this purpose using the discrete wavelet transform (DWT) and parametric approaches based on the autoregressive (AR) model. Both of these methods are used as input to machine learning classification algorithms such as Artificial Neural Networks (ANN), Naive Bayesian, k-Nearest Neighbor (k-NN), Support Vector Machines (SVM), Logistic Regression, and Principal Component Analysis. According to test processing of both DWT and AR as feature extraction for recognition of epileptic episodes in EEG, the results reveal that k-NN, ANN, and SVM were the most efficient methods."
      ],
      "metadata": {
        "id": "QOKBtt23qOVs"
      }
    },
    {
      "cell_type": "markdown",
      "source": [
        "## Introduction of Epilepsy\n",
        "\n",
        "Epilepsy is a serious brain condition that is a worldwide neurological disorder. It is a clinical outcome of aberrant neurological electrical discharge of the brain. The most common positive signs and symptoms of a brain abnormality are epileptic seizures, and epilepsy is one of the most prevalent primary brain illnesses. The most common causes of epilepsy are vascular reasons, traumatic causes, infections and brain tumors, dietary deficiencies, pyridoxine deficiency, and calcium metabolism abnormalities. For improved understanding of the mechanisms generating epileptic diseases, study is required in order to diagnose epilepsy. The electroencephalogram [EEG] is used to diagnose and treat neurophysiologic diseases. The EEG is critical for accurately classifying different types of epilepsy.\n"
      ],
      "metadata": {
        "id": "gKwmphsKsOVH"
      }
    },
    {
      "cell_type": "markdown",
      "source": [
        "## Background Study (Theoritical)\n",
        "\n",
        "The goal of this research is to use engineering to help in the diagnosis of epilepsy. Thus, modified discrete wavelet and auto regressive models are used to diagnose epileptic seizures using EEG signals. Following these changes, the extracted data is used as input for techniques such as back-propagation, Naive Bayesian, k-Nearest Neighbor (k-NN), Support Vector Machine (SVM), ANN, Logistic Regression, and Principal Component Analysis.\n"
      ],
      "metadata": {
        "id": "OWlQ4hcRuyxP"
      }
    },
    {
      "cell_type": "markdown",
      "source": [
        "## EEG Data Recording\n",
        "\n",
        "EEG signals are separated into α, β, γ and θ spectral components and provide a wide range of frequency components. EEG spectrum contains some characteristic waveforms that fall primarily within four frequency bands as follows: δ(0.5-4Hz), θ(4-8Hz), α(8-13Hz) and β(13-30Hz). \n",
        "\n",
        "EEG data set has acquired different age groups in this study. They are known epileptic with uncontrolled seizures and are admitted to the neurology department of the Medical Faculty Hospital of Dicle University. Fo this system LabView pro- gramming language has been used and the EEG data used in 400 people who received 200 of them are epilepsy and with 200 of them are normal. Data set represents of signals belong to several healthy and epileptic patients. The EEG signals that are contained by PCI-MIO 16E DAQ card system that provides real time processing and is a data bus of computer, signal processor and personal computer. \n",
        "\n",
        "EEG signals are to ensure the accuracy of diagnosing disease that usually is taken 8-10 hours in the form of records. EEG signals are used in section and 23.6 seconds, 173Hz sampling frequency is illustrated with international 10-20 eletrode placement system according to the dat acollected, 12-bit analog-digital conversion after the samples are recorded subsequently. \n",
        "\n",
        "Data can be passed through the filter 0.53-40Hz band-pass, the EEG in the presence of clinical interest for focusing range is provided. The EEG data used in our study were downloaded from 24h EEG recorded from both epileptic patients and normal subjects.\n",
        "\n",
        "The following bipolar EEG channels were selected for analysis: F7-C3, F8-C4, T5-O1 and T6-O2. In order to assess the performance of the classifier, we selected 500 EEG segments containing spike and wave complex, artifacts and background normal EEG.\n"
      ],
      "metadata": {
        "id": "pQl1lkr-wWBX"
      }
    },
    {
      "cell_type": "markdown",
      "source": [
        "## Discrete Wavelete Transform\n",
        "\n",
        "Wavelet transform is more advantageous spectral analyze method that other spectral analyze methods on non-stationary signals. Because the wavelete transform method changes large low-frequency, high-frequency that is narrow for the window size. So, the entire frequency range can be achieved in the optimum time-frequency resolution.\n",
        "\n",
        "Continuous and discrete wavelete transform is analyzed in the scale and variation of parameters due to the continuous wavelet coefficients for each scale is difficult and time consuming. For this reason, discrete wavelete transform is used more often thanthses non-stationary signals. Wavelet scaleis divided into a number of points for x[n] process as seen in Fig.2 that is called multi-resolution decomposition. it is important that is selected appropriate wavelete decomposition level, the number of detection and wavelete transform analysis of signals. Because of classification accuracy is dependent on type of wavelet, dominant frequency components of signals are determined according to the number of decomposition levels. Wavelete coefficients contrain important information about EEG signal that provide extraction of feature vector. Statistical-time frequency of EEG signals sequences are:\n",
        "\n",
        "The average of the absolute value coefficients in each sub-band. The maximum absolute value of coefficients in each sub-band. The mean force coefficients of each sub-band. Standard eviation of coefficients in each sub-band. The average absolute value of the ratio of adjacent bands. Distribution of breakdown coefficients in each sub-band. \n",
        "\n",
        "1-3 sequence is signal characteristics; 4-6 sequence is that amount of frequency change. This feature vector of EEG signals that are used as inputs for multi-layer neural network classification. "
      ],
      "metadata": {
        "id": "XWES8Vli17fT"
      }
    },
    {
      "cell_type": "markdown",
      "source": [
        "## Importing the Necessary Libraries"
      ],
      "metadata": {
        "id": "9SQG21pA5cXD"
      }
    },
    {
      "cell_type": "code",
      "execution_count": 1,
      "metadata": {
        "id": "0NOCOnzqpxaR"
      },
      "outputs": [],
      "source": [
        "import numpy as np\n",
        "import matplotlib.pyplot as plt\n",
        "import pandas as pd\n",
        "import seaborn as sns"
      ]
    },
    {
      "cell_type": "markdown",
      "source": [
        "## Load the data"
      ],
      "metadata": {
        "id": "c9RNq_9V6WoK"
      }
    },
    {
      "cell_type": "code",
      "source": [
        "ESR = pd.read_csv('https://raw.githubusercontent.com/mamuncseru/analysis_on_epileptic_seizure_bonn_dataset/main/Epileptic%20Seizure%20Recognition.csv')\n",
        "ESR.head()"
      ],
      "metadata": {
        "colab": {
          "base_uri": "https://localhost:8080/",
          "height": 235
        },
        "id": "W_kP0IC75mjR",
        "outputId": "a334a051-def6-403d-855e-63a525f6d8ed"
      },
      "execution_count": 2,
      "outputs": [
        {
          "output_type": "execute_result",
          "data": {
            "text/plain": [
              "      Unnamed   X1   X2   X3   X4   X5   X6   X7   X8   X9  ...  X170  X171  \\\n",
              "0  X21.V1.791  135  190  229  223  192  125   55   -9  -33  ...   -17   -15   \n",
              "1  X15.V1.924  386  382  356  331  320  315  307  272  244  ...   164   150   \n",
              "2     X8.V1.1  -32  -39  -47  -37  -32  -36  -57  -73  -85  ...    57    64   \n",
              "3   X16.V1.60 -105 -101  -96  -92  -89  -95 -102 -100  -87  ...   -82   -81   \n",
              "4   X20.V1.54   -9  -65  -98 -102  -78  -48  -16    0  -21  ...     4     2   \n",
              "\n",
              "   X172  X173  X174  X175  X176  X177  X178  y  \n",
              "0   -31   -77  -103  -127  -116   -83   -51  4  \n",
              "1   146   152   157   156   154   143   129  1  \n",
              "2    48    19   -12   -30   -35   -35   -36  5  \n",
              "3   -80   -77   -85   -77   -72   -69   -65  5  \n",
              "4   -12   -32   -41   -65   -83   -89   -73  5  \n",
              "\n",
              "[5 rows x 180 columns]"
            ],
            "text/html": [
              "\n",
              "  <div id=\"df-fa994de4-3297-4b2a-96f6-04248840f583\">\n",
              "    <div class=\"colab-df-container\">\n",
              "      <div>\n",
              "<style scoped>\n",
              "    .dataframe tbody tr th:only-of-type {\n",
              "        vertical-align: middle;\n",
              "    }\n",
              "\n",
              "    .dataframe tbody tr th {\n",
              "        vertical-align: top;\n",
              "    }\n",
              "\n",
              "    .dataframe thead th {\n",
              "        text-align: right;\n",
              "    }\n",
              "</style>\n",
              "<table border=\"1\" class=\"dataframe\">\n",
              "  <thead>\n",
              "    <tr style=\"text-align: right;\">\n",
              "      <th></th>\n",
              "      <th>Unnamed</th>\n",
              "      <th>X1</th>\n",
              "      <th>X2</th>\n",
              "      <th>X3</th>\n",
              "      <th>X4</th>\n",
              "      <th>X5</th>\n",
              "      <th>X6</th>\n",
              "      <th>X7</th>\n",
              "      <th>X8</th>\n",
              "      <th>X9</th>\n",
              "      <th>...</th>\n",
              "      <th>X170</th>\n",
              "      <th>X171</th>\n",
              "      <th>X172</th>\n",
              "      <th>X173</th>\n",
              "      <th>X174</th>\n",
              "      <th>X175</th>\n",
              "      <th>X176</th>\n",
              "      <th>X177</th>\n",
              "      <th>X178</th>\n",
              "      <th>y</th>\n",
              "    </tr>\n",
              "  </thead>\n",
              "  <tbody>\n",
              "    <tr>\n",
              "      <th>0</th>\n",
              "      <td>X21.V1.791</td>\n",
              "      <td>135</td>\n",
              "      <td>190</td>\n",
              "      <td>229</td>\n",
              "      <td>223</td>\n",
              "      <td>192</td>\n",
              "      <td>125</td>\n",
              "      <td>55</td>\n",
              "      <td>-9</td>\n",
              "      <td>-33</td>\n",
              "      <td>...</td>\n",
              "      <td>-17</td>\n",
              "      <td>-15</td>\n",
              "      <td>-31</td>\n",
              "      <td>-77</td>\n",
              "      <td>-103</td>\n",
              "      <td>-127</td>\n",
              "      <td>-116</td>\n",
              "      <td>-83</td>\n",
              "      <td>-51</td>\n",
              "      <td>4</td>\n",
              "    </tr>\n",
              "    <tr>\n",
              "      <th>1</th>\n",
              "      <td>X15.V1.924</td>\n",
              "      <td>386</td>\n",
              "      <td>382</td>\n",
              "      <td>356</td>\n",
              "      <td>331</td>\n",
              "      <td>320</td>\n",
              "      <td>315</td>\n",
              "      <td>307</td>\n",
              "      <td>272</td>\n",
              "      <td>244</td>\n",
              "      <td>...</td>\n",
              "      <td>164</td>\n",
              "      <td>150</td>\n",
              "      <td>146</td>\n",
              "      <td>152</td>\n",
              "      <td>157</td>\n",
              "      <td>156</td>\n",
              "      <td>154</td>\n",
              "      <td>143</td>\n",
              "      <td>129</td>\n",
              "      <td>1</td>\n",
              "    </tr>\n",
              "    <tr>\n",
              "      <th>2</th>\n",
              "      <td>X8.V1.1</td>\n",
              "      <td>-32</td>\n",
              "      <td>-39</td>\n",
              "      <td>-47</td>\n",
              "      <td>-37</td>\n",
              "      <td>-32</td>\n",
              "      <td>-36</td>\n",
              "      <td>-57</td>\n",
              "      <td>-73</td>\n",
              "      <td>-85</td>\n",
              "      <td>...</td>\n",
              "      <td>57</td>\n",
              "      <td>64</td>\n",
              "      <td>48</td>\n",
              "      <td>19</td>\n",
              "      <td>-12</td>\n",
              "      <td>-30</td>\n",
              "      <td>-35</td>\n",
              "      <td>-35</td>\n",
              "      <td>-36</td>\n",
              "      <td>5</td>\n",
              "    </tr>\n",
              "    <tr>\n",
              "      <th>3</th>\n",
              "      <td>X16.V1.60</td>\n",
              "      <td>-105</td>\n",
              "      <td>-101</td>\n",
              "      <td>-96</td>\n",
              "      <td>-92</td>\n",
              "      <td>-89</td>\n",
              "      <td>-95</td>\n",
              "      <td>-102</td>\n",
              "      <td>-100</td>\n",
              "      <td>-87</td>\n",
              "      <td>...</td>\n",
              "      <td>-82</td>\n",
              "      <td>-81</td>\n",
              "      <td>-80</td>\n",
              "      <td>-77</td>\n",
              "      <td>-85</td>\n",
              "      <td>-77</td>\n",
              "      <td>-72</td>\n",
              "      <td>-69</td>\n",
              "      <td>-65</td>\n",
              "      <td>5</td>\n",
              "    </tr>\n",
              "    <tr>\n",
              "      <th>4</th>\n",
              "      <td>X20.V1.54</td>\n",
              "      <td>-9</td>\n",
              "      <td>-65</td>\n",
              "      <td>-98</td>\n",
              "      <td>-102</td>\n",
              "      <td>-78</td>\n",
              "      <td>-48</td>\n",
              "      <td>-16</td>\n",
              "      <td>0</td>\n",
              "      <td>-21</td>\n",
              "      <td>...</td>\n",
              "      <td>4</td>\n",
              "      <td>2</td>\n",
              "      <td>-12</td>\n",
              "      <td>-32</td>\n",
              "      <td>-41</td>\n",
              "      <td>-65</td>\n",
              "      <td>-83</td>\n",
              "      <td>-89</td>\n",
              "      <td>-73</td>\n",
              "      <td>5</td>\n",
              "    </tr>\n",
              "  </tbody>\n",
              "</table>\n",
              "<p>5 rows × 180 columns</p>\n",
              "</div>\n",
              "      <button class=\"colab-df-convert\" onclick=\"convertToInteractive('df-fa994de4-3297-4b2a-96f6-04248840f583')\"\n",
              "              title=\"Convert this dataframe to an interactive table.\"\n",
              "              style=\"display:none;\">\n",
              "        \n",
              "  <svg xmlns=\"http://www.w3.org/2000/svg\" height=\"24px\"viewBox=\"0 0 24 24\"\n",
              "       width=\"24px\">\n",
              "    <path d=\"M0 0h24v24H0V0z\" fill=\"none\"/>\n",
              "    <path d=\"M18.56 5.44l.94 2.06.94-2.06 2.06-.94-2.06-.94-.94-2.06-.94 2.06-2.06.94zm-11 1L8.5 8.5l.94-2.06 2.06-.94-2.06-.94L8.5 2.5l-.94 2.06-2.06.94zm10 10l.94 2.06.94-2.06 2.06-.94-2.06-.94-.94-2.06-.94 2.06-2.06.94z\"/><path d=\"M17.41 7.96l-1.37-1.37c-.4-.4-.92-.59-1.43-.59-.52 0-1.04.2-1.43.59L10.3 9.45l-7.72 7.72c-.78.78-.78 2.05 0 2.83L4 21.41c.39.39.9.59 1.41.59.51 0 1.02-.2 1.41-.59l7.78-7.78 2.81-2.81c.8-.78.8-2.07 0-2.86zM5.41 20L4 18.59l7.72-7.72 1.47 1.35L5.41 20z\"/>\n",
              "  </svg>\n",
              "      </button>\n",
              "      \n",
              "  <style>\n",
              "    .colab-df-container {\n",
              "      display:flex;\n",
              "      flex-wrap:wrap;\n",
              "      gap: 12px;\n",
              "    }\n",
              "\n",
              "    .colab-df-convert {\n",
              "      background-color: #E8F0FE;\n",
              "      border: none;\n",
              "      border-radius: 50%;\n",
              "      cursor: pointer;\n",
              "      display: none;\n",
              "      fill: #1967D2;\n",
              "      height: 32px;\n",
              "      padding: 0 0 0 0;\n",
              "      width: 32px;\n",
              "    }\n",
              "\n",
              "    .colab-df-convert:hover {\n",
              "      background-color: #E2EBFA;\n",
              "      box-shadow: 0px 1px 2px rgba(60, 64, 67, 0.3), 0px 1px 3px 1px rgba(60, 64, 67, 0.15);\n",
              "      fill: #174EA6;\n",
              "    }\n",
              "\n",
              "    [theme=dark] .colab-df-convert {\n",
              "      background-color: #3B4455;\n",
              "      fill: #D2E3FC;\n",
              "    }\n",
              "\n",
              "    [theme=dark] .colab-df-convert:hover {\n",
              "      background-color: #434B5C;\n",
              "      box-shadow: 0px 1px 3px 1px rgba(0, 0, 0, 0.15);\n",
              "      filter: drop-shadow(0px 1px 2px rgba(0, 0, 0, 0.3));\n",
              "      fill: #FFFFFF;\n",
              "    }\n",
              "  </style>\n",
              "\n",
              "      <script>\n",
              "        const buttonEl =\n",
              "          document.querySelector('#df-fa994de4-3297-4b2a-96f6-04248840f583 button.colab-df-convert');\n",
              "        buttonEl.style.display =\n",
              "          google.colab.kernel.accessAllowed ? 'block' : 'none';\n",
              "\n",
              "        async function convertToInteractive(key) {\n",
              "          const element = document.querySelector('#df-fa994de4-3297-4b2a-96f6-04248840f583');\n",
              "          const dataTable =\n",
              "            await google.colab.kernel.invokeFunction('convertToInteractive',\n",
              "                                                     [key], {});\n",
              "          if (!dataTable) return;\n",
              "\n",
              "          const docLinkHtml = 'Like what you see? Visit the ' +\n",
              "            '<a target=\"_blank\" href=https://colab.research.google.com/notebooks/data_table.ipynb>data table notebook</a>'\n",
              "            + ' to learn more about interactive tables.';\n",
              "          element.innerHTML = '';\n",
              "          dataTable['output_type'] = 'display_data';\n",
              "          await google.colab.output.renderOutput(dataTable, element);\n",
              "          const docLink = document.createElement('div');\n",
              "          docLink.innerHTML = docLinkHtml;\n",
              "          element.appendChild(docLink);\n",
              "        }\n",
              "      </script>\n",
              "    </div>\n",
              "  </div>\n",
              "  "
            ]
          },
          "metadata": {},
          "execution_count": 2
        }
      ]
    },
    {
      "cell_type": "markdown",
      "source": [
        "## All about dataset\n",
        "\n",
        "* The original dataset from the reference consists of 5 different folders, each with 100 files, with each file representing a single subject/person. Each file is a recording of brain activity for 23.6 seconds.\n",
        "\n",
        "* The corresponding time-series is sampled into 4097 data points. Each data point is the value of the EEG recording at a different point in time. So we have total 500 individuals with each has 4097 data points for 23.5 seconds. \n",
        "\n",
        "* We divided and shuffled every 4097 data points into 23 chunks, each chunk contains 178 data points for 1 second, and each data point is the value of the EEG recording at a different point in time. \n",
        "\n",
        "* So now we have 23 x 500 == 11500 pieces of information(row), each information contains 178 data points for 1 second(column), the last column represents the label y {1,2,3,4,5}\n",
        "\n",
        "* The response variable is y in column 179, the explanatory variables X1, X2, ..., X178"
      ],
      "metadata": {
        "id": "thcb50ZY6k5R"
      }
    },
    {
      "cell_type": "code",
      "source": [
        "cols = ESR.columns\n",
        "tgt = ESR.y\n",
        "tgt[tgt > 1] = 0\n",
        "\n",
        "ax = sns.histplot(tgt, label=\"Count\")\n",
        "non_seizure, seizure = tgt.value_counts()\n",
        "print('The number of trials for the non-seizure class is:', non_seizure)\n",
        "print('The number of trials for the seizure class is:', seizure)"
      ],
      "metadata": {
        "colab": {
          "base_uri": "https://localhost:8080/",
          "height": 570
        },
        "id": "zH3FuVul6d8U",
        "outputId": "27e6fd21-c297-4657-f745-d10d88275457"
      },
      "execution_count": 3,
      "outputs": [
        {
          "output_type": "stream",
          "name": "stderr",
          "text": [
            "<ipython-input-3-dc4373742e61>:3: SettingWithCopyWarning: \n",
            "A value is trying to be set on a copy of a slice from a DataFrame\n",
            "\n",
            "See the caveats in the documentation: https://pandas.pydata.org/pandas-docs/stable/user_guide/indexing.html#returning-a-view-versus-a-copy\n",
            "  tgt[tgt > 1] = 0\n"
          ]
        },
        {
          "output_type": "stream",
          "name": "stdout",
          "text": [
            "The number of trials for the non-seizure class is: 9200\n",
            "The number of trials for the seizure class is: 2300\n"
          ]
        },
        {
          "output_type": "display_data",
          "data": {
            "text/plain": [
              "<Figure size 640x480 with 1 Axes>"
            ],
            "image/png": "[encoded data removed]"
          },
          "metadata": {}
        }
      ]
    },
    {
      "cell_type": "markdown",
      "source": [
        "As we can see, there 178 EEG features and 5 possible classes. The main goal of the dataset it's to be able to correctly identify epileptic seizures from EEG data, so a binary classification between classes of label 1 and the rest (2,3,4,5). In order to train our model, let's define our independent variable (X) and our dependent variable (y)"
      ],
      "metadata": {
        "id": "AFs6L0hw-WlY"
      }
    },
    {
      "cell_type": "markdown",
      "source": [
        "## Data Preprocessing\n"
      ],
      "metadata": {
        "id": "CJjBNAit9ZOu"
      }
    },
    {
      "cell_type": "code",
      "source": [
        "# 1. Checking Missing Data\n",
        "ESR.isnull().sum()"
      ],
      "metadata": {
        "colab": {
          "base_uri": "https://localhost:8080/"
        },
        "id": "y-aZMrnO8wBx",
        "outputId": "19d807ae-2ce0-47de-9f7a-67ab450870c8"
      },
      "execution_count": 4,
      "outputs": [
        {
          "output_type": "execute_result",
          "data": {
            "text/plain": [
              "Unnamed    0\n",
              "X1         0\n",
              "X2         0\n",
              "X3         0\n",
              "X4         0\n",
              "          ..\n",
              "X175       0\n",
              "X176       0\n",
              "X177       0\n",
              "X178       0\n",
              "y          0\n",
              "Length: 180, dtype: int64"
            ]
          },
          "metadata": {},
          "execution_count": 4
        }
      ]
    },
    {
      "cell_type": "code",
      "source": [
        "tgt.info()"
      ],
      "metadata": {
        "id": "SyPVNqfA_FBy",
        "colab": {
          "base_uri": "https://localhost:8080/"
        },
        "outputId": "a72ab277-5e83-4af3-f25c-6482e602b40d"
      },
      "execution_count": 5,
      "outputs": [
        {
          "output_type": "stream",
          "name": "stdout",
          "text": [
            "<class 'pandas.core.series.Series'>\n",
            "RangeIndex: 11500 entries, 0 to 11499\n",
            "Series name: y\n",
            "Non-Null Count  Dtype\n",
            "--------------  -----\n",
            "11500 non-null  int64\n",
            "dtypes: int64(1)\n",
            "memory usage: 90.0 KB\n"
          ]
        }
      ]
    },
    {
      "cell_type": "markdown",
      "source": [
        "## Exploratory Data Analysis"
      ],
      "metadata": {
        "id": "g-lrydpV88JA"
      }
    },
    {
      "cell_type": "code",
      "source": [
        "ESR.info()"
      ],
      "metadata": {
        "colab": {
          "base_uri": "https://localhost:8080/"
        },
        "id": "P6fH6_Q47BZ0",
        "outputId": "aa8dcdca-c18a-4336-c027-2af697ffbfaa"
      },
      "execution_count": 6,
      "outputs": [
        {
          "output_type": "stream",
          "name": "stdout",
          "text": [
            "<class 'pandas.core.frame.DataFrame'>\n",
            "RangeIndex: 11500 entries, 0 to 11499\n",
            "Columns: 180 entries, Unnamed to y\n",
            "dtypes: int64(179), object(1)\n",
            "memory usage: 15.8+ MB\n"
          ]
        }
      ]
    },
    {
      "cell_type": "code",
      "source": [
        "ESR.describe()"
      ],
      "metadata": {
        "colab": {
          "base_uri": "https://localhost:8080/",
          "height": 393
        },
        "id": "_F9T9rqA7pp-",
        "outputId": "97c9903e-73fe-4d3d-d2ec-294829f1777f"
      },
      "execution_count": 7,
      "outputs": [
        {
          "output_type": "execute_result",
          "data": {
            "text/plain": [
              "                 X1            X2            X3            X4            X5  \\\n",
              "count  11500.000000  11500.000000  11500.000000  11500.000000  11500.000000   \n",
              "mean     -11.581391    -10.911565    -10.187130     -9.143043     -8.009739   \n",
              "std      165.626284    166.059609    163.524317    161.269041    160.998007   \n",
              "min    -1839.000000  -1838.000000  -1835.000000  -1845.000000  -1791.000000   \n",
              "25%      -54.000000    -55.000000    -54.000000    -54.000000    -54.000000   \n",
              "50%       -8.000000     -8.000000     -7.000000     -8.000000     -8.000000   \n",
              "75%       34.000000     35.000000     36.000000     36.000000     35.000000   \n",
              "max     1726.000000   1713.000000   1697.000000   1612.000000   1518.000000   \n",
              "\n",
              "                 X6            X7           X8           X9           X10  \\\n",
              "count  11500.000000  11500.000000  11500.00000  11500.00000  11500.000000   \n",
              "mean      -7.003478     -6.502087     -6.68713     -6.55800     -6.168435   \n",
              "std      161.328725    161.467837    162.11912    162.03336    160.436352   \n",
              "min    -1757.000000  -1832.000000  -1778.00000  -1840.00000  -1867.000000   \n",
              "25%      -54.000000    -54.000000    -55.00000    -55.00000    -54.000000   \n",
              "50%       -8.000000     -8.000000     -8.00000     -7.00000     -7.000000   \n",
              "75%       36.000000     35.000000     36.00000     36.00000     35.250000   \n",
              "max     1816.000000   2047.000000   2047.00000   2047.00000   2047.000000   \n",
              "\n",
              "       ...          X170          X171          X172          X173  \\\n",
              "count  ...  11500.000000  11500.000000  11500.000000  11500.000000   \n",
              "mean   ...    -10.145739    -11.630348    -12.943478    -13.668870   \n",
              "std    ...    164.652883    166.149790    168.554058    168.556486   \n",
              "min    ...  -1867.000000  -1865.000000  -1642.000000  -1723.000000   \n",
              "25%    ...    -55.000000    -56.000000    -56.000000    -56.000000   \n",
              "50%    ...     -9.000000    -10.000000    -10.000000    -10.000000   \n",
              "75%    ...     34.000000     34.000000     33.000000     33.000000   \n",
              "max    ...   1777.000000   1472.000000   1319.000000   1436.000000   \n",
              "\n",
              "               X174          X175          X176          X177          X178  \\\n",
              "count  11500.000000  11500.000000  11500.000000  11500.000000  11500.000000   \n",
              "mean     -13.363304    -13.045043    -12.705130    -12.426000    -12.195652   \n",
              "std      167.257290    164.241019    162.895832    162.886311    164.852015   \n",
              "min    -1866.000000  -1863.000000  -1781.000000  -1727.000000  -1829.000000   \n",
              "25%      -55.000000    -56.000000    -55.000000    -55.000000    -55.000000   \n",
              "50%      -10.000000     -9.000000     -9.000000     -9.000000     -9.000000   \n",
              "75%       34.000000     34.000000     34.000000     34.000000     34.000000   \n",
              "max     1733.000000   1958.000000   2047.000000   2047.000000   1915.000000   \n",
              "\n",
              "                  y  \n",
              "count  11500.000000  \n",
              "mean       0.200000  \n",
              "std        0.400017  \n",
              "min        0.000000  \n",
              "25%        0.000000  \n",
              "50%        0.000000  \n",
              "75%        0.000000  \n",
              "max        1.000000  \n",
              "\n",
              "[8 rows x 179 columns]"
            ],
            "text/html": [
              "\n",
              "  <div id=\"df-891a2a45-da12-4cc8-9083-635c8a313aaa\">\n",
              "    <div class=\"colab-df-container\">\n",
              "      <div>\n",
              "<style scoped>\n",
              "    .dataframe tbody tr th:only-of-type {\n",
              "        vertical-align: middle;\n",
              "    }\n",
              "\n",
              "    .dataframe tbody tr th {\n",
              "        vertical-align: top;\n",
              "    }\n",
              "\n",
              "    .dataframe thead th {\n",
              "        text-align: right;\n",
              "    }\n",
              "</style>\n",
              "<table border=\"1\" class=\"dataframe\">\n",
              "  <thead>\n",
              "    <tr style=\"text-align: right;\">\n",
              "      <th></th>\n",
              "      <th>X1</th>\n",
              "      <th>X2</th>\n",
              "      <th>X3</th>\n",
              "      <th>X4</th>\n",
              "      <th>X5</th>\n",
              "      <th>X6</th>\n",
              "      <th>X7</th>\n",
              "      <th>X8</th>\n",
              "      <th>X9</th>\n",
              "      <th>X10</th>\n",
              "      <th>...</th>\n",
              "      <th>X170</th>\n",
              "      <th>X171</th>\n",
              "      <th>X172</th>\n",
              "      <th>X173</th>\n",
              "      <th>X174</th>\n",
              "      <th>X175</th>\n",
              "      <th>X176</th>\n",
              "      <th>X177</th>\n",
              "      <th>X178</th>\n",
              "      <th>y</th>\n",
              "    </tr>\n",
              "  </thead>\n",
              "  <tbody>\n",
              "    <tr>\n",
              "      <th>count</th>\n",
              "      <td>11500.000000</td>\n",
              "      <td>11500.000000</td>\n",
              "      <td>11500.000000</td>\n",
              "      <td>11500.000000</td>\n",
              "      <td>11500.000000</td>\n",
              "      <td>11500.000000</td>\n",
              "      <td>11500.000000</td>\n",
              "      <td>11500.00000</td>\n",
              "      <td>11500.00000</td>\n",
              "      <td>11500.000000</td>\n",
              "      <td>...</td>\n",
              "      <td>11500.000000</td>\n",
              "      <td>11500.000000</td>\n",
              "      <td>11500.000000</td>\n",
              "      <td>11500.000000</td>\n",
              "      <td>11500.000000</td>\n",
              "      <td>11500.000000</td>\n",
              "      <td>11500.000000</td>\n",
              "      <td>11500.000000</td>\n",
              "      <td>11500.000000</td>\n",
              "      <td>11500.000000</td>\n",
              "    </tr>\n",
              "    <tr>\n",
              "      <th>mean</th>\n",
              "      <td>-11.581391</td>\n",
              "      <td>-10.911565</td>\n",
              "      <td>-10.187130</td>\n",
              "      <td>-9.143043</td>\n",
              "      <td>-8.009739</td>\n",
              "      <td>-7.003478</td>\n",
              "      <td>-6.502087</td>\n",
              "      <td>-6.68713</td>\n",
              "      <td>-6.55800</td>\n",
              "      <td>-6.168435</td>\n",
              "      <td>...</td>\n",
              "      <td>-10.145739</td>\n",
              "      <td>-11.630348</td>\n",
              "      <td>-12.943478</td>\n",
              "      <td>-13.668870</td>\n",
              "      <td>-13.363304</td>\n",
              "      <td>-13.045043</td>\n",
              "      <td>-12.705130</td>\n",
              "      <td>-12.426000</td>\n",
              "      <td>-12.195652</td>\n",
              "      <td>0.200000</td>\n",
              "    </tr>\n",
              "    <tr>\n",
              "      <th>std</th>\n",
              "      <td>165.626284</td>\n",
              "      <td>166.059609</td>\n",
              "      <td>163.524317</td>\n",
              "      <td>161.269041</td>\n",
              "      <td>160.998007</td>\n",
              "      <td>161.328725</td>\n",
              "      <td>161.467837</td>\n",
              "      <td>162.11912</td>\n",
              "      <td>162.03336</td>\n",
              "      <td>160.436352</td>\n",
              "      <td>...</td>\n",
              "      <td>164.652883</td>\n",
              "      <td>166.149790</td>\n",
              "      <td>168.554058</td>\n",
              "      <td>168.556486</td>\n",
              "      <td>167.257290</td>\n",
              "      <td>164.241019</td>\n",
              "      <td>162.895832</td>\n",
              "      <td>162.886311</td>\n",
              "      <td>164.852015</td>\n",
              "      <td>0.400017</td>\n",
              "    </tr>\n",
              "    <tr>\n",
              "      <th>min</th>\n",
              "      <td>-1839.000000</td>\n",
              "      <td>-1838.000000</td>\n",
              "      <td>-1835.000000</td>\n",
              "      <td>-1845.000000</td>\n",
              "      <td>-1791.000000</td>\n",
              "      <td>-1757.000000</td>\n",
              "      <td>-1832.000000</td>\n",
              "      <td>-1778.00000</td>\n",
              "      <td>-1840.00000</td>\n",
              "      <td>-1867.000000</td>\n",
              "      <td>...</td>\n",
              "      <td>-1867.000000</td>\n",
              "      <td>-1865.000000</td>\n",
              "      <td>-1642.000000</td>\n",
              "      <td>-1723.000000</td>\n",
              "      <td>-1866.000000</td>\n",
              "      <td>-1863.000000</td>\n",
              "      <td>-1781.000000</td>\n",
              "      <td>-1727.000000</td>\n",
              "      <td>-1829.000000</td>\n",
              "      <td>0.000000</td>\n",
              "    </tr>\n",
              "    <tr>\n",
              "      <th>25%</th>\n",
              "      <td>-54.000000</td>\n",
              "      <td>-55.000000</td>\n",
              "      <td>-54.000000</td>\n",
              "      <td>-54.000000</td>\n",
              "      <td>-54.000000</td>\n",
              "      <td>-54.000000</td>\n",
              "      <td>-54.000000</td>\n",
              "      <td>-55.00000</td>\n",
              "      <td>-55.00000</td>\n",
              "      <td>-54.000000</td>\n",
              "      <td>...</td>\n",
              "      <td>-55.000000</td>\n",
              "      <td>-56.000000</td>\n",
              "      <td>-56.000000</td>\n",
              "      <td>-56.000000</td>\n",
              "      <td>-55.000000</td>\n",
              "      <td>-56.000000</td>\n",
              "      <td>-55.000000</td>\n",
              "      <td>-55.000000</td>\n",
              "      <td>-55.000000</td>\n",
              "      <td>0.000000</td>\n",
              "    </tr>\n",
              "    <tr>\n",
              "      <th>50%</th>\n",
              "      <td>-8.000000</td>\n",
              "      <td>-8.000000</td>\n",
              "      <td>-7.000000</td>\n",
              "      <td>-8.000000</td>\n",
              "      <td>-8.000000</td>\n",
              "      <td>-8.000000</td>\n",
              "      <td>-8.000000</td>\n",
              "      <td>-8.00000</td>\n",
              "      <td>-7.00000</td>\n",
              "      <td>-7.000000</td>\n",
              "      <td>...</td>\n",
              "      <td>-9.000000</td>\n",
              "      <td>-10.000000</td>\n",
              "      <td>-10.000000</td>\n",
              "      <td>-10.000000</td>\n",
              "      <td>-10.000000</td>\n",
              "      <td>-9.000000</td>\n",
              "      <td>-9.000000</td>\n",
              "      <td>-9.000000</td>\n",
              "      <td>-9.000000</td>\n",
              "      <td>0.000000</td>\n",
              "    </tr>\n",
              "    <tr>\n",
              "      <th>75%</th>\n",
              "      <td>34.000000</td>\n",
              "      <td>35.000000</td>\n",
              "      <td>36.000000</td>\n",
              "      <td>36.000000</td>\n",
              "      <td>35.000000</td>\n",
              "      <td>36.000000</td>\n",
              "      <td>35.000000</td>\n",
              "      <td>36.00000</td>\n",
              "      <td>36.00000</td>\n",
              "      <td>35.250000</td>\n",
              "      <td>...</td>\n",
              "      <td>34.000000</td>\n",
              "      <td>34.000000</td>\n",
              "      <td>33.000000</td>\n",
              "      <td>33.000000</td>\n",
              "      <td>34.000000</td>\n",
              "      <td>34.000000</td>\n",
              "      <td>34.000000</td>\n",
              "      <td>34.000000</td>\n",
              "      <td>34.000000</td>\n",
              "      <td>0.000000</td>\n",
              "    </tr>\n",
              "    <tr>\n",
              "      <th>max</th>\n",
              "      <td>1726.000000</td>\n",
              "      <td>1713.000000</td>\n",
              "      <td>1697.000000</td>\n",
              "      <td>1612.000000</td>\n",
              "      <td>1518.000000</td>\n",
              "      <td>1816.000000</td>\n",
              "      <td>2047.000000</td>\n",
              "      <td>2047.00000</td>\n",
              "      <td>2047.00000</td>\n",
              "      <td>2047.000000</td>\n",
              "      <td>...</td>\n",
              "      <td>1777.000000</td>\n",
              "      <td>1472.000000</td>\n",
              "      <td>1319.000000</td>\n",
              "      <td>1436.000000</td>\n",
              "      <td>1733.000000</td>\n",
              "      <td>1958.000000</td>\n",
              "      <td>2047.000000</td>\n",
              "      <td>2047.000000</td>\n",
              "      <td>1915.000000</td>\n",
              "      <td>1.000000</td>\n",
              "    </tr>\n",
              "  </tbody>\n",
              "</table>\n",
              "<p>8 rows × 179 columns</p>\n",
              "</div>\n",
              "      <button class=\"colab-df-convert\" onclick=\"convertToInteractive('df-891a2a45-da12-4cc8-9083-635c8a313aaa')\"\n",
              "              title=\"Convert this dataframe to an interactive table.\"\n",
              "              style=\"display:none;\">\n",
              "        \n",
              "  <svg xmlns=\"http://www.w3.org/2000/svg\" height=\"24px\"viewBox=\"0 0 24 24\"\n",
              "       width=\"24px\">\n",
              "    <path d=\"M0 0h24v24H0V0z\" fill=\"none\"/>\n",
              "    <path d=\"M18.56 5.44l.94 2.06.94-2.06 2.06-.94-2.06-.94-.94-2.06-.94 2.06-2.06.94zm-11 1L8.5 8.5l.94-2.06 2.06-.94-2.06-.94L8.5 2.5l-.94 2.06-2.06.94zm10 10l.94 2.06.94-2.06 2.06-.94-2.06-.94-.94-2.06-.94 2.06-2.06.94z\"/><path d=\"M17.41 7.96l-1.37-1.37c-.4-.4-.92-.59-1.43-.59-.52 0-1.04.2-1.43.59L10.3 9.45l-7.72 7.72c-.78.78-.78 2.05 0 2.83L4 21.41c.39.39.9.59 1.41.59.51 0 1.02-.2 1.41-.59l7.78-7.78 2.81-2.81c.8-.78.8-2.07 0-2.86zM5.41 20L4 18.59l7.72-7.72 1.47 1.35L5.41 20z\"/>\n",
              "  </svg>\n",
              "      </button>\n",
              "      \n",
              "  <style>\n",
              "    .colab-df-container {\n",
              "      display:flex;\n",
              "      flex-wrap:wrap;\n",
              "      gap: 12px;\n",
              "    }\n",
              "\n",
              "    .colab-df-convert {\n",
              "      background-color: #E8F0FE;\n",
              "      border: none;\n",
              "      border-radius: 50%;\n",
              "      cursor: pointer;\n",
              "      display: none;\n",
              "      fill: #1967D2;\n",
              "      height: 32px;\n",
              "      padding: 0 0 0 0;\n",
              "      width: 32px;\n",
              "    }\n",
              "\n",
              "    .colab-df-convert:hover {\n",
              "      background-color: #E2EBFA;\n",
              "      box-shadow: 0px 1px 2px rgba(60, 64, 67, 0.3), 0px 1px 3px 1px rgba(60, 64, 67, 0.15);\n",
              "      fill: #174EA6;\n",
              "    }\n",
              "\n",
              "    [theme=dark] .colab-df-convert {\n",
              "      background-color: #3B4455;\n",
              "      fill: #D2E3FC;\n",
              "    }\n",
              "\n",
              "    [theme=dark] .colab-df-convert:hover {\n",
              "      background-color: #434B5C;\n",
              "      box-shadow: 0px 1px 3px 1px rgba(0, 0, 0, 0.15);\n",
              "      filter: drop-shadow(0px 1px 2px rgba(0, 0, 0, 0.3));\n",
              "      fill: #FFFFFF;\n",
              "    }\n",
              "  </style>\n",
              "\n",
              "      <script>\n",
              "        const buttonEl =\n",
              "          document.querySelector('#df-891a2a45-da12-4cc8-9083-635c8a313aaa button.colab-df-convert');\n",
              "        buttonEl.style.display =\n",
              "          google.colab.kernel.accessAllowed ? 'block' : 'none';\n",
              "\n",
              "        async function convertToInteractive(key) {\n",
              "          const element = document.querySelector('#df-891a2a45-da12-4cc8-9083-635c8a313aaa');\n",
              "          const dataTable =\n",
              "            await google.colab.kernel.invokeFunction('convertToInteractive',\n",
              "                                                     [key], {});\n",
              "          if (!dataTable) return;\n",
              "\n",
              "          const docLinkHtml = 'Like what you see? Visit the ' +\n",
              "            '<a target=\"_blank\" href=https://colab.research.google.com/notebooks/data_table.ipynb>data table notebook</a>'\n",
              "            + ' to learn more about interactive tables.';\n",
              "          element.innerHTML = '';\n",
              "          dataTable['output_type'] = 'display_data';\n",
              "          await google.colab.output.renderOutput(dataTable, element);\n",
              "          const docLink = document.createElement('div');\n",
              "          docLink.innerHTML = docLinkHtml;\n",
              "          element.appendChild(docLink);\n",
              "        }\n",
              "      </script>\n",
              "    </div>\n",
              "  </div>\n",
              "  "
            ]
          },
          "metadata": {},
          "execution_count": 7
        }
      ]
    },
    {
      "cell_type": "code",
      "source": [
        "X = ESR.iloc[:, 1:179].values\n",
        "X.shape"
      ],
      "metadata": {
        "colab": {
          "base_uri": "https://localhost:8080/"
        },
        "id": "sEzM1LkM7syf",
        "outputId": "c1b5c2b3-fc25-4831-97a0-6d6a0e42c853"
      },
      "execution_count": 8,
      "outputs": [
        {
          "output_type": "execute_result",
          "data": {
            "text/plain": [
              "(11500, 178)"
            ]
          },
          "metadata": {},
          "execution_count": 8
        }
      ]
    },
    {
      "cell_type": "code",
      "source": [
        "plt.subplot(511)\n",
        "plt.plot(X[1, :])\n",
        "plt.title(\"Classes\")\n",
        "plt.ylabel(\"uV\")\n",
        "plt.subplot(512)\n",
        "plt.plot(X[7, :])\n",
        "plt.subplot(513)\n",
        "plt.plot(X[12, :])\n",
        "plt.subplot(514)\n",
        "plt.plot(X[0, :])\n",
        "plt.subplot(515)\n",
        "plt.plot(X[2, :])\n",
        "plt.xlabel('Samples')"
      ],
      "metadata": {
        "colab": {
          "base_uri": "https://localhost:8080/",
          "height": 489
        },
        "id": "wOHIBI8b701d",
        "outputId": "c24820bd-dca5-482f-839f-d300fb451423"
      },
      "execution_count": 9,
      "outputs": [
        {
          "output_type": "execute_result",
          "data": {
            "text/plain": [
              "Text(0.5, 0, 'Samples')"
            ]
          },
          "metadata": {},
          "execution_count": 9
        },
        {
          "output_type": "display_data",
          "data": {
            "text/plain": [
              "<Figure size 640x480 with 5 Axes>"
            ],
            "image/png": "[encoded data removed]"
          },
          "metadata": {}
        }
      ]
    },
    {
      "cell_type": "code",
      "source": [
        "y = ESR.iloc[:, 179].values\n",
        "y"
      ],
      "metadata": {
        "colab": {
          "base_uri": "https://localhost:8080/"
        },
        "id": "ZX6n2k0u8m-2",
        "outputId": "a79bf9f5-7804-405d-9fe9-3dd6d4c98c28"
      },
      "execution_count": 10,
      "outputs": [
        {
          "output_type": "execute_result",
          "data": {
            "text/plain": [
              "array([0, 1, 0, ..., 0, 0, 0])"
            ]
          },
          "metadata": {},
          "execution_count": 10
        }
      ]
    },
    {
      "cell_type": "code",
      "source": [
        "y[y > 1] = 0\n",
        "y"
      ],
      "metadata": {
        "colab": {
          "base_uri": "https://localhost:8080/"
        },
        "id": "_Z7lQSUh8wxz",
        "outputId": "6b41eba1-1abe-42cf-821c-9cbca92c21cc"
      },
      "execution_count": 11,
      "outputs": [
        {
          "output_type": "execute_result",
          "data": {
            "text/plain": [
              "array([0, 1, 0, ..., 0, 0, 0])"
            ]
          },
          "metadata": {},
          "execution_count": 11
        }
      ]
    },
    {
      "cell_type": "markdown",
      "source": [
        "## Building Machine Learning Models"
      ],
      "metadata": {
        "id": "vDaxmpsW9QoP"
      }
    },
    {
      "cell_type": "code",
      "source": [
        "# splittig the dataset into the training set and test set\n",
        "\n",
        "from sklearn.model_selection import train_test_split, cross_val_score\n",
        "X_train, X_test, y_train, y_test = train_test_split(X, y, test_size=0.2)"
      ],
      "metadata": {
        "id": "MEjGgrNh80Ib"
      },
      "execution_count": 13,
      "outputs": []
    },
    {
      "cell_type": "code",
      "source": [
        "## Feature Scaling\n",
        "\n",
        "from sklearn.preprocessing import StandardScaler\n",
        "sc = StandardScaler()\n",
        "X_train = sc.fit_transform(X_train)\n",
        "X_test = sc.transform(X_test)"
      ],
      "metadata": {
        "id": "abqNl0yN9cl1"
      },
      "execution_count": 15,
      "outputs": []
    },
    {
      "cell_type": "code",
      "source": [
        "### 1. Logistic Regression\n",
        "\n",
        "from sklearn.linear_model import LogisticRegression\n",
        "\n",
        "clf = LogisticRegression()\n",
        "clf.fit(X_train, y_train)\n",
        "y_pred_log_reg = clf.predict(X_test) \n",
        "acc_log_reg = round(clf.score(X_train, y_train) * 100, 2)\n",
        "print(str(acc_log_reg) + ' %')"
      ],
      "metadata": {
        "colab": {
          "base_uri": "https://localhost:8080/"
        },
        "id": "HMSoeoZf9mcm",
        "outputId": "7e42756d-7441-42f1-dd79-7bb3aeaf9eca"
      },
      "execution_count": 16,
      "outputs": [
        {
          "output_type": "stream",
          "name": "stdout",
          "text": [
            "82.45 %\n"
          ]
        },
        {
          "output_type": "stream",
          "name": "stderr",
          "text": [
            "/usr/local/lib/python3.9/dist-packages/sklearn/linear_model/_logistic.py:458: ConvergenceWarning: lbfgs failed to converge (status=1):\n",
            "STOP: TOTAL NO. of ITERATIONS REACHED LIMIT.\n",
            "\n",
            "Increase the number of iterations (max_iter) or scale the data as shown in:\n",
            "    https://scikit-learn.org/stable/modules/preprocessing.html\n",
            "Please also refer to the documentation for alternative solver options:\n",
            "    https://scikit-learn.org/stable/modules/linear_model.html#logistic-regression\n",
            "  n_iter_i = _check_optimize_result(\n"
          ]
        }
      ]
    },
    {
      "cell_type": "code",
      "source": [
        "### 2. Support Vector Machine(SVM)\n",
        "\n",
        "from sklearn.svm import SVC\n",
        "clf = SVC()\n",
        "clf.fit(X_train, y_train)\n",
        "y_pred_svc = clf.predict(X_test)\n",
        "acc_svc = round(clf.score(X_train, y_train) * 100, 2)\n",
        "print(str(acc_svc) + '%')"
      ],
      "metadata": {
        "colab": {
          "base_uri": "https://localhost:8080/"
        },
        "id": "C_z50KdT-P2a",
        "outputId": "163b60a0-922f-424a-ead6-a9bad5e7ae2d"
      },
      "execution_count": 20,
      "outputs": [
        {
          "output_type": "stream",
          "name": "stdout",
          "text": [
            "98.26%\n"
          ]
        }
      ]
    },
    {
      "cell_type": "code",
      "source": [
        "### Linear SVM\n",
        "from sklearn.svm import SVC, LinearSVC\n",
        "clf = LinearSVC()\n",
        "clf.fit(X_train, y_train)\n",
        "y_pred_linear_svc = clf.predict(X_test)\n",
        "acc_linear_svc = round(clf.score(X_train, y_train) * 100, 2)\n",
        "print(str(acc_linear_svc) + '%')"
      ],
      "metadata": {
        "colab": {
          "base_uri": "https://localhost:8080/"
        },
        "id": "5N0oNAw8-wJh",
        "outputId": "78849b91-d9da-4e93-a554-46c1f8bbe413"
      },
      "execution_count": 21,
      "outputs": [
        {
          "output_type": "stream",
          "name": "stdout",
          "text": [
            "82.27%\n"
          ]
        },
        {
          "output_type": "stream",
          "name": "stderr",
          "text": [
            "/usr/local/lib/python3.9/dist-packages/sklearn/svm/_base.py:1244: ConvergenceWarning: Liblinear failed to converge, increase the number of iterations.\n",
            "  warnings.warn(\n"
          ]
        }
      ]
    },
    {
      "cell_type": "code",
      "source": [
        "### 3. k-Nearest Neighbors\n",
        "from sklearn.neighbors import KNeighborsClassifier\n",
        "clf = KNeighborsClassifier()\n",
        "clf.fit(X_train, y_train)\n",
        "y_pred_knn = clf.predict(X_test)\n",
        "acc_knn = round(clf.score(X_train, y_train) * 100, 2)\n",
        "print(str(acc_knn) + '%')"
      ],
      "metadata": {
        "colab": {
          "base_uri": "https://localhost:8080/"
        },
        "id": "waG5XZcd_Pw8",
        "outputId": "7fa5c740-d973-4d38-cbd9-57e8181fb427"
      },
      "execution_count": 22,
      "outputs": [
        {
          "output_type": "stream",
          "name": "stdout",
          "text": [
            "93.88%\n"
          ]
        }
      ]
    },
    {
      "cell_type": "code",
      "source": [
        "### 4. Gaussian Naive Bayes\n",
        "from sklearn.naive_bayes import GaussianNB\n",
        "clf = GaussianNB()\n",
        "clf.fit(X_train, y_train)\n",
        "y_pred_gnb = clf.predict(X_test)\n",
        "acc_gnb = round(clf.score(X_train, y_train) * 100, 2)\n",
        "print(str(acc_gnb) + '%')"
      ],
      "metadata": {
        "colab": {
          "base_uri": "https://localhost:8080/"
        },
        "id": "_lSFY5Zo_pzX",
        "outputId": "fe491de4-39f9-47fd-9c3f-c843ddf82062"
      },
      "execution_count": 23,
      "outputs": [
        {
          "output_type": "stream",
          "name": "stdout",
          "text": [
            "95.75%\n"
          ]
        }
      ]
    },
    {
      "cell_type": "code",
      "source": [
        "### 5. Artificial Neural Network\n",
        "import keras\n",
        "from keras.models import Sequential\n",
        "from keras.layers import Dense"
      ],
      "metadata": {
        "id": "wIyp6qsz_-JR"
      },
      "execution_count": 24,
      "outputs": []
    },
    {
      "cell_type": "code",
      "source": [
        "## Building a model architecture\n",
        "classifier = Sequential()\n",
        "classifier.add(Dense(units=80, activation='relu', input_dim=178))\n",
        "classifier.add(Dense(units = 80, activation='relu'))\n",
        "classifier.add(Dense(units = 1, activation='sigmoid'))\n",
        "\n",
        "## Compiling the ANN\n",
        "classifier.compile(optimizer = 'adam', loss='binary_crossentropy', metrics=['accuracy'])\n",
        "\n",
        "## Fitting the ANN to the training set\n",
        "classifier.fit(X_train, y_train, batch_size=10, epochs=100)"
      ],
      "metadata": {
        "colab": {
          "base_uri": "https://localhost:8080/"
        },
        "id": "27yyOtUjAJh4",
        "outputId": "02ab34d3-f7a1-4953-e41a-a7cdd763f9c7"
      },
      "execution_count": 28,
      "outputs": [
        {
          "output_type": "stream",
          "name": "stdout",
          "text": [
            "Epoch 1/100\n",
            "920/920 [==============================] - 6s 4ms/step - loss: 0.2045 - accuracy: 0.9429\n",
            "Epoch 2/100\n",
            "920/920 [==============================] - 2s 2ms/step - loss: 0.0944 - accuracy: 0.9714\n",
            "Epoch 3/100\n",
            "920/920 [==============================] - 2s 2ms/step - loss: 0.0672 - accuracy: 0.9778\n",
            "Epoch 4/100\n",
            "920/920 [==============================] - 2s 2ms/step - loss: 0.0621 - accuracy: 0.9796\n",
            "Epoch 5/100\n",
            "920/920 [==============================] - 2s 3ms/step - loss: 0.0515 - accuracy: 0.9839\n",
            "Epoch 6/100\n",
            "920/920 [==============================] - 2s 2ms/step - loss: 0.0457 - accuracy: 0.9858\n",
            "Epoch 7/100\n",
            "920/920 [==============================] - 2s 2ms/step - loss: 0.0381 - accuracy: 0.9875\n",
            "Epoch 8/100\n",
            "920/920 [==============================] - 3s 3ms/step - loss: 0.0386 - accuracy: 0.9875\n",
            "Epoch 9/100\n",
            "920/920 [==============================] - 5s 6ms/step - loss: 0.0358 - accuracy: 0.9897\n",
            "Epoch 10/100\n",
            "920/920 [==============================] - 4s 4ms/step - loss: 0.0273 - accuracy: 0.9911\n",
            "Epoch 11/100\n",
            "920/920 [==============================] - 3s 4ms/step - loss: 0.0267 - accuracy: 0.9916\n",
            "Epoch 12/100\n",
            "920/920 [==============================] - 3s 4ms/step - loss: 0.0255 - accuracy: 0.9916\n",
            "Epoch 13/100\n",
            "920/920 [==============================] - 5s 5ms/step - loss: 0.0200 - accuracy: 0.9937\n",
            "Epoch 14/100\n",
            "920/920 [==============================] - 3s 3ms/step - loss: 0.0242 - accuracy: 0.9941\n",
            "Epoch 15/100\n",
            "920/920 [==============================] - 3s 3ms/step - loss: 0.0118 - accuracy: 0.9963\n",
            "Epoch 16/100\n",
            "920/920 [==============================] - 3s 3ms/step - loss: 0.0175 - accuracy: 0.9942\n",
            "Epoch 17/100\n",
            "920/920 [==============================] - 4s 4ms/step - loss: 0.0203 - accuracy: 0.9935\n",
            "Epoch 18/100\n",
            "920/920 [==============================] - 3s 3ms/step - loss: 0.0077 - accuracy: 0.9976\n",
            "Epoch 19/100\n",
            "920/920 [==============================] - 3s 3ms/step - loss: 0.0144 - accuracy: 0.9961\n",
            "Epoch 20/100\n",
            "920/920 [==============================] - 2s 3ms/step - loss: 0.0208 - accuracy: 0.9934\n",
            "Epoch 21/100\n",
            "920/920 [==============================] - 2s 2ms/step - loss: 0.0069 - accuracy: 0.9985\n",
            "Epoch 22/100\n",
            "920/920 [==============================] - 3s 3ms/step - loss: 0.0038 - accuracy: 0.9990\n",
            "Epoch 23/100\n",
            "920/920 [==============================] - 2s 2ms/step - loss: 0.0168 - accuracy: 0.9948\n",
            "Epoch 24/100\n",
            "920/920 [==============================] - 2s 2ms/step - loss: 0.0132 - accuracy: 0.9957\n",
            "Epoch 25/100\n",
            "920/920 [==============================] - 2s 2ms/step - loss: 0.0093 - accuracy: 0.9975\n",
            "Epoch 26/100\n",
            "920/920 [==============================] - 2s 2ms/step - loss: 0.0030 - accuracy: 0.9995\n",
            "Epoch 27/100\n",
            "920/920 [==============================] - 2s 2ms/step - loss: 0.0180 - accuracy: 0.9954\n",
            "Epoch 28/100\n",
            "920/920 [==============================] - 3s 3ms/step - loss: 0.0089 - accuracy: 0.9967\n",
            "Epoch 29/100\n",
            "920/920 [==============================] - 4s 4ms/step - loss: 0.0036 - accuracy: 0.9990\n",
            "Epoch 30/100\n",
            "920/920 [==============================] - 2s 3ms/step - loss: 0.0149 - accuracy: 0.9968\n",
            "Epoch 31/100\n",
            "920/920 [==============================] - 2s 2ms/step - loss: 0.0081 - accuracy: 0.9974\n",
            "Epoch 32/100\n",
            "920/920 [==============================] - 2s 3ms/step - loss: 0.0100 - accuracy: 0.9976\n",
            "Epoch 33/100\n",
            "920/920 [==============================] - 4s 4ms/step - loss: 0.0058 - accuracy: 0.9985\n",
            "Epoch 34/100\n",
            "920/920 [==============================] - 3s 3ms/step - loss: 0.0012 - accuracy: 0.9998\n",
            "Epoch 35/100\n",
            "920/920 [==============================] - 2s 2ms/step - loss: 4.9264e-04 - accuracy: 0.9999\n",
            "Epoch 36/100\n",
            "920/920 [==============================] - 2s 2ms/step - loss: 0.0251 - accuracy: 0.9941\n",
            "Epoch 37/100\n",
            "920/920 [==============================] - 2s 2ms/step - loss: 0.0128 - accuracy: 0.9958\n",
            "Epoch 38/100\n",
            "920/920 [==============================] - 2s 2ms/step - loss: 0.0043 - accuracy: 0.9988\n",
            "Epoch 39/100\n",
            "920/920 [==============================] - 3s 3ms/step - loss: 6.6138e-04 - accuracy: 1.0000\n",
            "Epoch 40/100\n",
            "920/920 [==============================] - 2s 2ms/step - loss: 2.4670e-04 - accuracy: 1.0000\n",
            "Epoch 41/100\n",
            "920/920 [==============================] - 2s 2ms/step - loss: 1.7341e-04 - accuracy: 1.0000\n",
            "Epoch 42/100\n",
            "920/920 [==============================] - 2s 2ms/step - loss: 1.1092e-04 - accuracy: 1.0000\n",
            "Epoch 43/100\n",
            "920/920 [==============================] - 2s 2ms/step - loss: 7.0630e-05 - accuracy: 1.0000\n",
            "Epoch 44/100\n",
            "920/920 [==============================] - 2s 2ms/step - loss: 5.1489e-05 - accuracy: 1.0000\n",
            "Epoch 45/100\n",
            "920/920 [==============================] - 2s 2ms/step - loss: 0.0359 - accuracy: 0.9909\n",
            "Epoch 46/100\n",
            "920/920 [==============================] - 3s 3ms/step - loss: 0.0104 - accuracy: 0.9970\n",
            "Epoch 47/100\n",
            "920/920 [==============================] - 2s 2ms/step - loss: 0.0047 - accuracy: 0.9984\n",
            "Epoch 48/100\n",
            "920/920 [==============================] - 2s 2ms/step - loss: 0.0011 - accuracy: 0.9997\n",
            "Epoch 49/100\n",
            "920/920 [==============================] - 2s 2ms/step - loss: 4.2581e-04 - accuracy: 1.0000\n",
            "Epoch 50/100\n",
            "920/920 [==============================] - 2s 2ms/step - loss: 1.2502e-04 - accuracy: 1.0000\n",
            "Epoch 51/100\n",
            "920/920 [==============================] - 2s 2ms/step - loss: 7.8776e-05 - accuracy: 1.0000\n",
            "Epoch 52/100\n",
            "920/920 [==============================] - 2s 2ms/step - loss: 5.5225e-05 - accuracy: 1.0000\n",
            "Epoch 53/100\n",
            "920/920 [==============================] - 2s 3ms/step - loss: 4.2646e-05 - accuracy: 1.0000\n",
            "Epoch 54/100\n",
            "920/920 [==============================] - 2s 2ms/step - loss: 2.7889e-05 - accuracy: 1.0000\n",
            "Epoch 55/100\n",
            "920/920 [==============================] - 2s 2ms/step - loss: 2.9136e-05 - accuracy: 1.0000\n",
            "Epoch 56/100\n",
            "920/920 [==============================] - 2s 2ms/step - loss: 0.0524 - accuracy: 0.9891\n",
            "Epoch 57/100\n",
            "920/920 [==============================] - 2s 2ms/step - loss: 0.0071 - accuracy: 0.9975\n",
            "Epoch 58/100\n",
            "920/920 [==============================] - 2s 2ms/step - loss: 0.0017 - accuracy: 0.9997\n",
            "Epoch 59/100\n",
            "920/920 [==============================] - 4s 5ms/step - loss: 7.0496e-04 - accuracy: 0.9998\n",
            "Epoch 60/100\n",
            "920/920 [==============================] - 3s 3ms/step - loss: 1.7028e-04 - accuracy: 1.0000\n",
            "Epoch 61/100\n",
            "920/920 [==============================] - 2s 2ms/step - loss: 8.5406e-05 - accuracy: 1.0000\n",
            "Epoch 62/100\n",
            "920/920 [==============================] - 3s 3ms/step - loss: 6.4094e-05 - accuracy: 1.0000\n",
            "Epoch 63/100\n",
            "920/920 [==============================] - 5s 5ms/step - loss: 4.0767e-05 - accuracy: 1.0000\n",
            "Epoch 64/100\n",
            "920/920 [==============================] - 4s 4ms/step - loss: 2.8839e-05 - accuracy: 1.0000\n",
            "Epoch 65/100\n",
            "920/920 [==============================] - 3s 3ms/step - loss: 2.0582e-05 - accuracy: 1.0000\n",
            "Epoch 66/100\n",
            "920/920 [==============================] - 2s 2ms/step - loss: 1.2770e-05 - accuracy: 1.0000\n",
            "Epoch 67/100\n",
            "920/920 [==============================] - 2s 2ms/step - loss: 1.1648e-05 - accuracy: 1.0000\n",
            "Epoch 68/100\n",
            "920/920 [==============================] - 2s 3ms/step - loss: 0.0430 - accuracy: 0.9909\n",
            "Epoch 69/100\n",
            "920/920 [==============================] - 2s 2ms/step - loss: 0.0197 - accuracy: 0.9962\n",
            "Epoch 70/100\n",
            "920/920 [==============================] - 2s 2ms/step - loss: 0.0049 - accuracy: 0.9987\n",
            "Epoch 71/100\n",
            "920/920 [==============================] - 2s 2ms/step - loss: 3.4630e-04 - accuracy: 1.0000\n",
            "Epoch 72/100\n",
            "920/920 [==============================] - 2s 2ms/step - loss: 2.0159e-04 - accuracy: 1.0000\n",
            "Epoch 73/100\n",
            "920/920 [==============================] - 2s 2ms/step - loss: 7.3219e-05 - accuracy: 1.0000\n",
            "Epoch 74/100\n",
            "920/920 [==============================] - 2s 2ms/step - loss: 5.1470e-05 - accuracy: 1.0000\n",
            "Epoch 75/100\n",
            "920/920 [==============================] - 3s 3ms/step - loss: 3.7137e-05 - accuracy: 1.0000\n",
            "Epoch 76/100\n",
            "920/920 [==============================] - 2s 2ms/step - loss: 2.5823e-05 - accuracy: 1.0000\n",
            "Epoch 77/100\n",
            "920/920 [==============================] - 2s 2ms/step - loss: 1.9021e-05 - accuracy: 1.0000\n",
            "Epoch 78/100\n",
            "920/920 [==============================] - 2s 2ms/step - loss: 1.2248e-05 - accuracy: 1.0000\n",
            "Epoch 79/100\n",
            "920/920 [==============================] - 2s 2ms/step - loss: 7.8677e-06 - accuracy: 1.0000\n",
            "Epoch 80/100\n",
            "920/920 [==============================] - 2s 2ms/step - loss: 5.3909e-06 - accuracy: 1.0000\n",
            "Epoch 81/100\n",
            "920/920 [==============================] - 2s 2ms/step - loss: 3.7168e-06 - accuracy: 1.0000\n",
            "Epoch 82/100\n",
            "920/920 [==============================] - 3s 3ms/step - loss: 2.5305e-06 - accuracy: 1.0000\n",
            "Epoch 83/100\n",
            "920/920 [==============================] - 2s 2ms/step - loss: 1.6737e-06 - accuracy: 1.0000\n",
            "Epoch 84/100\n",
            "920/920 [==============================] - 2s 2ms/step - loss: 9.4502e-07 - accuracy: 1.0000\n",
            "Epoch 85/100\n",
            "920/920 [==============================] - 2s 2ms/step - loss: 6.2656e-07 - accuracy: 1.0000\n",
            "Epoch 86/100\n",
            "920/920 [==============================] - 2s 2ms/step - loss: 3.8028e-07 - accuracy: 1.0000\n",
            "Epoch 87/100\n",
            "920/920 [==============================] - 2s 2ms/step - loss: 2.6371e-07 - accuracy: 1.0000\n",
            "Epoch 88/100\n",
            "920/920 [==============================] - 2s 2ms/step - loss: 1.6069e-07 - accuracy: 1.0000\n",
            "Epoch 89/100\n",
            "920/920 [==============================] - 2s 3ms/step - loss: 9.6781e-08 - accuracy: 1.0000\n",
            "Epoch 90/100\n",
            "920/920 [==============================] - 2s 2ms/step - loss: 0.0441 - accuracy: 0.9912\n",
            "Epoch 91/100\n",
            "920/920 [==============================] - 2s 2ms/step - loss: 0.0116 - accuracy: 0.9974\n",
            "Epoch 92/100\n",
            "920/920 [==============================] - 2s 2ms/step - loss: 0.0084 - accuracy: 0.9979\n",
            "Epoch 93/100\n",
            "920/920 [==============================] - 2s 2ms/step - loss: 0.0027 - accuracy: 0.9991\n",
            "Epoch 94/100\n",
            "920/920 [==============================] - 2s 2ms/step - loss: 0.0030 - accuracy: 0.9993\n",
            "Epoch 95/100\n",
            "920/920 [==============================] - 2s 2ms/step - loss: 0.0145 - accuracy: 0.9972\n",
            "Epoch 96/100\n",
            "920/920 [==============================] - 2s 2ms/step - loss: 0.0041 - accuracy: 0.9990\n",
            "Epoch 97/100\n",
            "920/920 [==============================] - 2s 2ms/step - loss: 0.0055 - accuracy: 0.9992\n",
            "Epoch 98/100\n",
            "920/920 [==============================] - 2s 2ms/step - loss: 0.0105 - accuracy: 0.9979\n",
            "Epoch 99/100\n",
            "920/920 [==============================] - 2s 2ms/step - loss: 0.0076 - accuracy: 0.9976\n",
            "Epoch 100/100\n",
            "920/920 [==============================] - 2s 2ms/step - loss: 0.0095 - accuracy: 0.9988\n"
          ]
        },
        {
          "output_type": "execute_result",
          "data": {
            "text/plain": [
              "<keras.callbacks.History at 0x7eff432ecd90>"
            ]
          },
          "metadata": {},
          "execution_count": 28
        }
      ]
    },
    {
      "cell_type": "code",
      "source": [
        "acc_ANN = classifier.evaluate(X_train, y_train)[1]\n",
        "acc_ANN"
      ],
      "metadata": {
        "colab": {
          "base_uri": "https://localhost:8080/"
        },
        "id": "PaOvXPLLDuxJ",
        "outputId": "fb017a9a-e84e-4b2d-ad8e-01d9bfd90d37"
      },
      "execution_count": 32,
      "outputs": [
        {
          "output_type": "stream",
          "name": "stdout",
          "text": [
            "288/288 [==============================] - 1s 2ms/step - loss: 0.0124 - accuracy: 0.9974\n"
          ]
        },
        {
          "output_type": "execute_result",
          "data": {
            "text/plain": [
              "0.9973912835121155"
            ]
          },
          "metadata": {},
          "execution_count": 32
        }
      ]
    },
    {
      "cell_type": "code",
      "source": [
        "# predicting the test set results\n",
        "y_pred = classifier.predict(X_test)\n",
        "y_pred = (y_pred > 0.5)\n",
        "print(classifier.evaluate(X_test, y_test))"
      ],
      "metadata": {
        "colab": {
          "base_uri": "https://localhost:8080/"
        },
        "id": "3UtRg3mvBPNw",
        "outputId": "a6a72a58-d5e0-4400-b6f0-43c1f58d582a"
      },
      "execution_count": 29,
      "outputs": [
        {
          "output_type": "stream",
          "name": "stdout",
          "text": [
            "72/72 [==============================] - 0s 1ms/step\n",
            "72/72 [==============================] - 0s 2ms/step - loss: 0.3112 - accuracy: 0.9687\n",
            "[0.31120631098747253, 0.9686956405639648]\n"
          ]
        }
      ]
    },
    {
      "cell_type": "markdown",
      "source": [
        "## Principal Component Analysis(PCA)"
      ],
      "metadata": {
        "id": "HNBtr6C8CUlj"
      }
    },
    {
      "cell_type": "code",
      "source": [
        "from sklearn.decomposition import PCA\n",
        "pca = PCA()\n",
        "X_train_pca = pca.fit_transform(X_train)\n",
        "X_test_pca = pca.transform(X_test)\n",
        "acc_PCA = round(pca.score(X_train, y_train))\n",
        "print(str(acc_PCA) + '%')"
      ],
      "metadata": {
        "colab": {
          "base_uri": "https://localhost:8080/"
        },
        "id": "_SYjbUtMC5PJ",
        "outputId": "0c9ed8d8-9f05-4e1d-d380-5da32f86b6ea"
      },
      "execution_count": 30,
      "outputs": [
        {
          "output_type": "stream",
          "name": "stdout",
          "text": [
            "90%\n"
          ]
        }
      ]
    },
    {
      "cell_type": "markdown",
      "source": [
        "## Comparing Models"
      ],
      "metadata": {
        "id": "yTR2PMGTDMIv"
      }
    },
    {
      "cell_type": "code",
      "source": [
        "models = pd.DataFrame({\n",
        "    'Model': ['Logistic Regression', 'Support Vector Machine', 'ANN', 'KNN', 'Naive Bayes', 'PCA'],\n",
        "    'Score': [acc_log_reg, acc_svc, acc_ANN, acc_knn, acc_gnb, acc_PCA]\n",
        "})\n",
        "models"
      ],
      "metadata": {
        "colab": {
          "base_uri": "https://localhost:8080/",
          "height": 237
        },
        "id": "dk05O1QpDOsW",
        "outputId": "81d0ddd5-3319-4b14-d376-66f7c4a89d54"
      },
      "execution_count": 33,
      "outputs": [
        {
          "output_type": "execute_result",
          "data": {
            "text/plain": [
              "                    Model      Score\n",
              "0     Logistic Regression  82.450000\n",
              "1  Support Vector Machine  98.260000\n",
              "2                     ANN   0.997391\n",
              "3                     KNN  93.880000\n",
              "4             Naive Bayes  95.750000\n",
              "5                     PCA  90.000000"
            ],
            "text/html": [
              "\n",
              "  <div id=\"df-0825329c-384b-4bcc-ad67-b515acda6ca5\">\n",
              "    <div class=\"colab-df-container\">\n",
              "      <div>\n",
              "<style scoped>\n",
              "    .dataframe tbody tr th:only-of-type {\n",
              "        vertical-align: middle;\n",
              "    }\n",
              "\n",
              "    .dataframe tbody tr th {\n",
              "        vertical-align: top;\n",
              "    }\n",
              "\n",
              "    .dataframe thead th {\n",
              "        text-align: right;\n",
              "    }\n",
              "</style>\n",
              "<table border=\"1\" class=\"dataframe\">\n",
              "  <thead>\n",
              "    <tr style=\"text-align: right;\">\n",
              "      <th></th>\n",
              "      <th>Model</th>\n",
              "      <th>Score</th>\n",
              "    </tr>\n",
              "  </thead>\n",
              "  <tbody>\n",
              "    <tr>\n",
              "      <th>0</th>\n",
              "      <td>Logistic Regression</td>\n",
              "      <td>82.450000</td>\n",
              "    </tr>\n",
              "    <tr>\n",
              "      <th>1</th>\n",
              "      <td>Support Vector Machine</td>\n",
              "      <td>98.260000</td>\n",
              "    </tr>\n",
              "    <tr>\n",
              "      <th>2</th>\n",
              "      <td>ANN</td>\n",
              "      <td>0.997391</td>\n",
              "    </tr>\n",
              "    <tr>\n",
              "      <th>3</th>\n",
              "      <td>KNN</td>\n",
              "      <td>93.880000</td>\n",
              "    </tr>\n",
              "    <tr>\n",
              "      <th>4</th>\n",
              "      <td>Naive Bayes</td>\n",
              "      <td>95.750000</td>\n",
              "    </tr>\n",
              "    <tr>\n",
              "      <th>5</th>\n",
              "      <td>PCA</td>\n",
              "      <td>90.000000</td>\n",
              "    </tr>\n",
              "  </tbody>\n",
              "</table>\n",
              "</div>\n",
              "      <button class=\"colab-df-convert\" onclick=\"convertToInteractive('df-0825329c-384b-4bcc-ad67-b515acda6ca5')\"\n",
              "              title=\"Convert this dataframe to an interactive table.\"\n",
              "              style=\"display:none;\">\n",
              "        \n",
              "  <svg xmlns=\"http://www.w3.org/2000/svg\" height=\"24px\"viewBox=\"0 0 24 24\"\n",
              "       width=\"24px\">\n",
              "    <path d=\"M0 0h24v24H0V0z\" fill=\"none\"/>\n",
              "    <path d=\"M18.56 5.44l.94 2.06.94-2.06 2.06-.94-2.06-.94-.94-2.06-.94 2.06-2.06.94zm-11 1L8.5 8.5l.94-2.06 2.06-.94-2.06-.94L8.5 2.5l-.94 2.06-2.06.94zm10 10l.94 2.06.94-2.06 2.06-.94-2.06-.94-.94-2.06-.94 2.06-2.06.94z\"/><path d=\"M17.41 7.96l-1.37-1.37c-.4-.4-.92-.59-1.43-.59-.52 0-1.04.2-1.43.59L10.3 9.45l-7.72 7.72c-.78.78-.78 2.05 0 2.83L4 21.41c.39.39.9.59 1.41.59.51 0 1.02-.2 1.41-.59l7.78-7.78 2.81-2.81c.8-.78.8-2.07 0-2.86zM5.41 20L4 18.59l7.72-7.72 1.47 1.35L5.41 20z\"/>\n",
              "  </svg>\n",
              "      </button>\n",
              "      \n",
              "  <style>\n",
              "    .colab-df-container {\n",
              "      display:flex;\n",
              "      flex-wrap:wrap;\n",
              "      gap: 12px;\n",
              "    }\n",
              "\n",
              "    .colab-df-convert {\n",
              "      background-color: #E8F0FE;\n",
              "      border: none;\n",
              "      border-radius: 50%;\n",
              "      cursor: pointer;\n",
              "      display: none;\n",
              "      fill: #1967D2;\n",
              "      height: 32px;\n",
              "      padding: 0 0 0 0;\n",
              "      width: 32px;\n",
              "    }\n",
              "\n",
              "    .colab-df-convert:hover {\n",
              "      background-color: #E2EBFA;\n",
              "      box-shadow: 0px 1px 2px rgba(60, 64, 67, 0.3), 0px 1px 3px 1px rgba(60, 64, 67, 0.15);\n",
              "      fill: #174EA6;\n",
              "    }\n",
              "\n",
              "    [theme=dark] .colab-df-convert {\n",
              "      background-color: #3B4455;\n",
              "      fill: #D2E3FC;\n",
              "    }\n",
              "\n",
              "    [theme=dark] .colab-df-convert:hover {\n",
              "      background-color: #434B5C;\n",
              "      box-shadow: 0px 1px 3px 1px rgba(0, 0, 0, 0.15);\n",
              "      filter: drop-shadow(0px 1px 2px rgba(0, 0, 0, 0.3));\n",
              "      fill: #FFFFFF;\n",
              "    }\n",
              "  </style>\n",
              "\n",
              "      <script>\n",
              "        const buttonEl =\n",
              "          document.querySelector('#df-0825329c-384b-4bcc-ad67-b515acda6ca5 button.colab-df-convert');\n",
              "        buttonEl.style.display =\n",
              "          google.colab.kernel.accessAllowed ? 'block' : 'none';\n",
              "\n",
              "        async function convertToInteractive(key) {\n",
              "          const element = document.querySelector('#df-0825329c-384b-4bcc-ad67-b515acda6ca5');\n",
              "          const dataTable =\n",
              "            await google.colab.kernel.invokeFunction('convertToInteractive',\n",
              "                                                     [key], {});\n",
              "          if (!dataTable) return;\n",
              "\n",
              "          const docLinkHtml = 'Like what you see? Visit the ' +\n",
              "            '<a target=\"_blank\" href=https://colab.research.google.com/notebooks/data_table.ipynb>data table notebook</a>'\n",
              "            + ' to learn more about interactive tables.';\n",
              "          element.innerHTML = '';\n",
              "          dataTable['output_type'] = 'display_data';\n",
              "          await google.colab.output.renderOutput(dataTable, element);\n",
              "          const docLink = document.createElement('div');\n",
              "          docLink.innerHTML = docLinkHtml;\n",
              "          element.appendChild(docLink);\n",
              "        }\n",
              "      </script>\n",
              "    </div>\n",
              "  </div>\n",
              "  "
            ]
          },
          "metadata": {},
          "execution_count": 33
        }
      ]
    },
    {
      "cell_type": "code",
      "source": [
        "models.sort_values(by='Score', ascending=False)"
      ],
      "metadata": {
        "colab": {
          "base_uri": "https://localhost:8080/",
          "height": 237
        },
        "id": "tEX9jJLBEAM3",
        "outputId": "b68f039d-1f55-43bd-fea3-a0da40da4134"
      },
      "execution_count": 35,
      "outputs": [
        {
          "output_type": "execute_result",
          "data": {
            "text/plain": [
              "                    Model      Score\n",
              "1  Support Vector Machine  98.260000\n",
              "4             Naive Bayes  95.750000\n",
              "3                     KNN  93.880000\n",
              "5                     PCA  90.000000\n",
              "0     Logistic Regression  82.450000\n",
              "2                     ANN   0.997391"
            ],
            "text/html": [
              "\n",
              "  <div id=\"df-87b46428-adfb-47e2-87ab-8fa4e250d0e0\">\n",
              "    <div class=\"colab-df-container\">\n",
              "      <div>\n",
              "<style scoped>\n",
              "    .dataframe tbody tr th:only-of-type {\n",
              "        vertical-align: middle;\n",
              "    }\n",
              "\n",
              "    .dataframe tbody tr th {\n",
              "        vertical-align: top;\n",
              "    }\n",
              "\n",
              "    .dataframe thead th {\n",
              "        text-align: right;\n",
              "    }\n",
              "</style>\n",
              "<table border=\"1\" class=\"dataframe\">\n",
              "  <thead>\n",
              "    <tr style=\"text-align: right;\">\n",
              "      <th></th>\n",
              "      <th>Model</th>\n",
              "      <th>Score</th>\n",
              "    </tr>\n",
              "  </thead>\n",
              "  <tbody>\n",
              "    <tr>\n",
              "      <th>1</th>\n",
              "      <td>Support Vector Machine</td>\n",
              "      <td>98.260000</td>\n",
              "    </tr>\n",
              "    <tr>\n",
              "      <th>4</th>\n",
              "      <td>Naive Bayes</td>\n",
              "      <td>95.750000</td>\n",
              "    </tr>\n",
              "    <tr>\n",
              "      <th>3</th>\n",
              "      <td>KNN</td>\n",
              "      <td>93.880000</td>\n",
              "    </tr>\n",
              "    <tr>\n",
              "      <th>5</th>\n",
              "      <td>PCA</td>\n",
              "      <td>90.000000</td>\n",
              "    </tr>\n",
              "    <tr>\n",
              "      <th>0</th>\n",
              "      <td>Logistic Regression</td>\n",
              "      <td>82.450000</td>\n",
              "    </tr>\n",
              "    <tr>\n",
              "      <th>2</th>\n",
              "      <td>ANN</td>\n",
              "      <td>0.997391</td>\n",
              "    </tr>\n",
              "  </tbody>\n",
              "</table>\n",
              "</div>\n",
              "      <button class=\"colab-df-convert\" onclick=\"convertToInteractive('df-87b46428-adfb-47e2-87ab-8fa4e250d0e0')\"\n",
              "              title=\"Convert this dataframe to an interactive table.\"\n",
              "              style=\"display:none;\">\n",
              "        \n",
              "  <svg xmlns=\"http://www.w3.org/2000/svg\" height=\"24px\"viewBox=\"0 0 24 24\"\n",
              "       width=\"24px\">\n",
              "    <path d=\"M0 0h24v24H0V0z\" fill=\"none\"/>\n",
              "    <path d=\"M18.56 5.44l.94 2.06.94-2.06 2.06-.94-2.06-.94-.94-2.06-.94 2.06-2.06.94zm-11 1L8.5 8.5l.94-2.06 2.06-.94-2.06-.94L8.5 2.5l-.94 2.06-2.06.94zm10 10l.94 2.06.94-2.06 2.06-.94-2.06-.94-.94-2.06-.94 2.06-2.06.94z\"/><path d=\"M17.41 7.96l-1.37-1.37c-.4-.4-.92-.59-1.43-.59-.52 0-1.04.2-1.43.59L10.3 9.45l-7.72 7.72c-.78.78-.78 2.05 0 2.83L4 21.41c.39.39.9.59 1.41.59.51 0 1.02-.2 1.41-.59l7.78-7.78 2.81-2.81c.8-.78.8-2.07 0-2.86zM5.41 20L4 18.59l7.72-7.72 1.47 1.35L5.41 20z\"/>\n",
              "  </svg>\n",
              "      </button>\n",
              "      \n",
              "  <style>\n",
              "    .colab-df-container {\n",
              "      display:flex;\n",
              "      flex-wrap:wrap;\n",
              "      gap: 12px;\n",
              "    }\n",
              "\n",
              "    .colab-df-convert {\n",
              "      background-color: #E8F0FE;\n",
              "      border: none;\n",
              "      border-radius: 50%;\n",
              "      cursor: pointer;\n",
              "      display: none;\n",
              "      fill: #1967D2;\n",
              "      height: 32px;\n",
              "      padding: 0 0 0 0;\n",
              "      width: 32px;\n",
              "    }\n",
              "\n",
              "    .colab-df-convert:hover {\n",
              "      background-color: #E2EBFA;\n",
              "      box-shadow: 0px 1px 2px rgba(60, 64, 67, 0.3), 0px 1px 3px 1px rgba(60, 64, 67, 0.15);\n",
              "      fill: #174EA6;\n",
              "    }\n",
              "\n",
              "    [theme=dark] .colab-df-convert {\n",
              "      background-color: #3B4455;\n",
              "      fill: #D2E3FC;\n",
              "    }\n",
              "\n",
              "    [theme=dark] .colab-df-convert:hover {\n",
              "      background-color: #434B5C;\n",
              "      box-shadow: 0px 1px 3px 1px rgba(0, 0, 0, 0.15);\n",
              "      filter: drop-shadow(0px 1px 2px rgba(0, 0, 0, 0.3));\n",
              "      fill: #FFFFFF;\n",
              "    }\n",
              "  </style>\n",
              "\n",
              "      <script>\n",
              "        const buttonEl =\n",
              "          document.querySelector('#df-87b46428-adfb-47e2-87ab-8fa4e250d0e0 button.colab-df-convert');\n",
              "        buttonEl.style.display =\n",
              "          google.colab.kernel.accessAllowed ? 'block' : 'none';\n",
              "\n",
              "        async function convertToInteractive(key) {\n",
              "          const element = document.querySelector('#df-87b46428-adfb-47e2-87ab-8fa4e250d0e0');\n",
              "          const dataTable =\n",
              "            await google.colab.kernel.invokeFunction('convertToInteractive',\n",
              "                                                     [key], {});\n",
              "          if (!dataTable) return;\n",
              "\n",
              "          const docLinkHtml = 'Like what you see? Visit the ' +\n",
              "            '<a target=\"_blank\" href=https://colab.research.google.com/notebooks/data_table.ipynb>data table notebook</a>'\n",
              "            + ' to learn more about interactive tables.';\n",
              "          element.innerHTML = '';\n",
              "          dataTable['output_type'] = 'display_data';\n",
              "          await google.colab.output.renderOutput(dataTable, element);\n",
              "          const docLink = document.createElement('div');\n",
              "          docLink.innerHTML = docLinkHtml;\n",
              "          element.appendChild(docLink);\n",
              "        }\n",
              "      </script>\n",
              "    </div>\n",
              "  </div>\n",
              "  "
            ]
          },
          "metadata": {},
          "execution_count": 35
        }
      ]
    },
    {
      "cell_type": "code",
      "source": [],
      "metadata": {
        "id": "hV8pnFkCEIZp"
      },
      "execution_count": null,
      "outputs": []
    }
  ]
}